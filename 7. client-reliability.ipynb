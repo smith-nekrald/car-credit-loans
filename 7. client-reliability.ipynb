{
 "cells": [
  {
   "cell_type": "markdown",
   "id": "ed80e7c5",
   "metadata": {},
   "source": [
    "# Notebook 7. Client Reliability."
   ]
  },
  {
   "cell_type": "code",
   "execution_count": 1,
   "id": "63a70b5e",
   "metadata": {},
   "outputs": [],
   "source": [
    "from typing import Union\n",
    "from typing import Any\n",
    "from typing import List\n",
    "from typing import Set\n",
    "from typing import Dict\n",
    "from typing import Tuple\n",
    "from typing import Optional\n",
    "from typing import Callable\n",
    "\n",
    "import pickle\n",
    "import os\n",
    "import copy\n",
    "from collections import OrderedDict\n",
    "from collections import defaultdict\n",
    "\n",
    "import joblib\n",
    "import pandas as pd\n",
    "import numpy as np\n",
    "import seaborn as sns\n",
    "import sklearn as sk\n",
    "import matplotlib.pyplot as plt\n",
    "\n",
    "%matplotlib inline\n",
    "RANDOM_SEED: int = 42\n",
    "np.random.seed(RANDOM_SEED)\n",
    "EstimatorType: Union = Union[sk.base.BaseEstimator, Any]"
   ]
  },
  {
   "cell_type": "code",
   "execution_count": 2,
   "id": "8211341a",
   "metadata": {},
   "outputs": [],
   "source": [
    "class DataTable: pass\n",
    "all_table: DataTable = joblib.load(\"prepared_data/all_data_dropped_na.jbl\")\n",
    "\n",
    "if not os.path.exists(\"images/reliability\"):\n",
    "    os.makedirs(\"images/reliability\")"
   ]
  },
  {
   "cell_type": "code",
   "execution_count": 3,
   "id": "f208134d",
   "metadata": {},
   "outputs": [
    {
     "name": "stdout",
     "output_type": "stream",
     "text": [
      "len underpaid =  444\n",
      "len overpaid =  3348\n"
     ]
    }
   ],
   "source": [
    "matrix: pd.DataFrame = all_table.matrix\n",
    "\n",
    "overpaid_contracts: List[str] = list()\n",
    "underpaid_contracts: List[str] = list()\n",
    "\n",
    "key: str; df: pd.DataFrame\n",
    "for key, df in matrix.groupby('CONTRACT_ID'):\n",
    "    df_copy: pd.DataFrame = copy.deepcopy(df)[\n",
    "        ['CONTRACT_ID', 'CUMSUM_REPAYMENT_ACTUAL', 'CUMSUM_REPAYMENT_SCHEDULED', 'REPAYMENT_ACTUAL']]\n",
    "    df_copy['CUMSUM_REPAYMENT_ACTUAL'] += df_copy['REPAYMENT_ACTUAL']\n",
    "    df_copy = df_copy.drop('REPAYMENT_ACTUAL', axis=1)\n",
    "    underpay: bool = False\n",
    "        \n",
    "    index: int; row: Dict[str, Any]\n",
    "    for index, row in df_copy.iterrows():\n",
    "        if not np.isnan(row['CUMSUM_REPAYMENT_ACTUAL']) and row['CUMSUM_REPAYMENT_ACTUAL'] < row['CUMSUM_REPAYMENT_SCHEDULED']:\n",
    "            underpay: bool = True\n",
    "    if underpay:\n",
    "        underpaid_contracts.append(key)\n",
    "    else:\n",
    "        overpaid_contracts.append(key)\n",
    "\n",
    "print(\"len underpaid = \", len(underpaid_contracts))\n",
    "print(\"len overpaid = \", len(overpaid_contracts))"
   ]
  },
  {
   "cell_type": "code",
   "execution_count": 4,
   "id": "80ab1b47",
   "metadata": {},
   "outputs": [
    {
     "name": "stderr",
     "output_type": "stream",
     "text": [
      "C:\\Users\\nekrald\\AppData\\Local\\Temp\\ipykernel_16868\\313034080.py:3: SettingWithCopyWarning: \n",
      "A value is trying to be set on a copy of a slice from a DataFrame\n",
      "\n",
      "See the caveats in the documentation: https://pandas.pydata.org/pandas-docs/stable/user_guide/indexing.html#returning-a-view-versus-a-copy\n",
      "  data_static['UNDERPAID'][data_static['CONTRACT_ID'].isin(underpaid_contracts)] = 1\n"
     ]
    }
   ],
   "source": [
    "data_static: pd.DataFrame = pd.read_csv('raw_data/Static.csv', sep=';').drop('CLIENT_ID', axis=1)\n",
    "data_static['UNDERPAID'] = 0\n",
    "data_static['UNDERPAID'][data_static['CONTRACT_ID'].isin(underpaid_contracts)] = 1\n",
    "data_static['GENDER'] = 1 * (data_static['GENDER'] == 'M')"
   ]
  },
  {
   "cell_type": "markdown",
   "id": "17c367c2",
   "metadata": {},
   "source": [
    "# Metrics"
   ]
  },
  {
   "cell_type": "code",
   "execution_count": 5,
   "id": "f4eac6d8",
   "metadata": {},
   "outputs": [],
   "source": [
    "from sklearn.metrics import balanced_accuracy_score\n",
    "from sklearn.metrics import accuracy_score\n",
    "\n",
    "from sklearn.metrics import classification_report\n",
    "\n",
    "def compute_metrics(y_pred: Union[List[int], np.array], \n",
    "                    y_true: Union[List[int], np.array]) -> Dict[str, Any]:\n",
    "    \"\"\" Computes classification report.\n",
    "    \n",
    "    Arguments:\n",
    "        y_pred -- Predicted classes.\n",
    "        y_true -- Reference classes.\n",
    "        \n",
    "    Returns:\n",
    "        Dictionary with classification report.\n",
    "    \"\"\"\n",
    "    scores: Dict[str, Any] = classification_report(\n",
    "        y_true, y_pred, output_dict=True)\n",
    "    return scores\n",
    "    "
   ]
  },
  {
   "cell_type": "code",
   "execution_count": 6,
   "id": "c7343719",
   "metadata": {},
   "outputs": [],
   "source": [
    "class TableBuilder:\n",
    "    \"\"\" Entity to store metrics for different classification approaches.\n",
    "    \n",
    "    Attributes:\n",
    "        column2list -- Storage of metrics and algorithm names to be converted\n",
    "            to Pandas DF afterwards.\n",
    "    \"\"\"\n",
    "    def __init__(self) -> None:\n",
    "        \"\"\" Initialization method. \"\"\"\n",
    "        self.column2list: Dict[str, List[Any]] = defaultdict(list)\n",
    "        \n",
    "    def commit(self, algo: str, report: Dict[str, Any]) -> None:\n",
    "        \"\"\" Adds classification report to the structure.\n",
    "        \n",
    "        Arguments:\n",
    "            algo -- Name of the algorithm.\n",
    "            report -- Classification report for the algorithm.\n",
    "        \"\"\"\n",
    "        self.column2list['algorithm'].append(algo)\n",
    "        self.column2list['accuracy'].append(report['accuracy'])\n",
    "        self.column2list['precision'].append(report['weighted avg']['precision'])\n",
    "        self.column2list['recall'].append(report['weighted avg']['recall'])\n",
    "        self.column2list['f1-score'].append(report['weighted avg']['f1-score'])\n",
    "        self.column2list['rel. prec.'].append(report['1.0']['precision'])\n",
    "        self.column2list['rel. rec.'].append(report['1.0']['recall'])\n",
    "        self.column2list['unrel. prec.'].append(report['0.0']['precision'])\n",
    "        self.column2list['unrel. rec.'].append(report['0.0']['precision'])\n",
    "        \n",
    "    def make_table(self) -> pd.DataFrame:\n",
    "        \"\"\" Method to export the state to pandas table. \n",
    "        \n",
    "        Returns:\n",
    "            Pandas dataframe with state information.\n",
    "        \"\"\"\n",
    "        return pd.DataFrame.from_dict(self.column2list)"
   ]
  },
  {
   "cell_type": "code",
   "execution_count": 7,
   "id": "0d2e32c8",
   "metadata": {},
   "outputs": [],
   "source": [
    "table_builder: TableBuilder = TableBuilder()"
   ]
  },
  {
   "cell_type": "markdown",
   "id": "84db4950",
   "metadata": {},
   "source": [
    "# With Logistic Regression"
   ]
  },
  {
   "cell_type": "code",
   "execution_count": 8,
   "id": "a63cbb9e",
   "metadata": {},
   "outputs": [],
   "source": [
    "from sklearn.model_selection import train_test_split\n",
    "\n",
    "y_all: Union[np.array, List[float]] = 1. - np.array(data_static['UNDERPAID'])\n",
    "clean_df: pd.DataFrame = data_static.drop(['UNDERPAID', 'CONTRACT_ID'], axis=1)\n",
    "X_all: Union[np.array, List[List[float]]] = np.array(clean_df)\n",
    "\n",
    "X_train: Union[np.array, List[List[float]]]; y_train: Union[np.array, List[float]]\n",
    "X_test: Union[np.array, List[List[float]]]; y_test: Union[np.array, List[float]]\n",
    "X_train, X_test, y_train, y_test = train_test_split(X_all, y_all, test_size=0.4, random_state=42)"
   ]
  },
  {
   "cell_type": "code",
   "execution_count": 9,
   "id": "e7349a32",
   "metadata": {},
   "outputs": [
    {
     "name": "stderr",
     "output_type": "stream",
     "text": [
      "C:\\Users\\nekrald\\anaconda3\\envs\\comm-461\\Lib\\site-packages\\sklearn\\linear_model\\_logistic.py:1182: FutureWarning: `penalty='none'`has been deprecated in 1.2 and will be removed in 1.4. To keep the past behaviour, set `penalty=None`.\n",
      "  warnings.warn(\n",
      "C:\\Users\\nekrald\\anaconda3\\envs\\comm-461\\Lib\\site-packages\\sklearn\\linear_model\\_logistic.py:1192: UserWarning: Setting penalty=None will ignore the C and l1_ratio parameters\n",
      "  warnings.warn(\n",
      "C:\\Users\\nekrald\\anaconda3\\envs\\comm-461\\Lib\\site-packages\\sklearn\\linear_model\\_logistic.py:1182: FutureWarning: `penalty='none'`has been deprecated in 1.2 and will be removed in 1.4. To keep the past behaviour, set `penalty=None`.\n",
      "  warnings.warn(\n",
      "C:\\Users\\nekrald\\anaconda3\\envs\\comm-461\\Lib\\site-packages\\sklearn\\linear_model\\_logistic.py:1192: UserWarning: Setting penalty=None will ignore the C and l1_ratio parameters\n",
      "  warnings.warn(\n",
      "C:\\Users\\nekrald\\anaconda3\\envs\\comm-461\\Lib\\site-packages\\sklearn\\linear_model\\_logistic.py:1182: FutureWarning: `penalty='none'`has been deprecated in 1.2 and will be removed in 1.4. To keep the past behaviour, set `penalty=None`.\n",
      "  warnings.warn(\n",
      "C:\\Users\\nekrald\\anaconda3\\envs\\comm-461\\Lib\\site-packages\\sklearn\\linear_model\\_logistic.py:1192: UserWarning: Setting penalty=None will ignore the C and l1_ratio parameters\n",
      "  warnings.warn(\n",
      "C:\\Users\\nekrald\\anaconda3\\envs\\comm-461\\Lib\\site-packages\\sklearn\\linear_model\\_logistic.py:1182: FutureWarning: `penalty='none'`has been deprecated in 1.2 and will be removed in 1.4. To keep the past behaviour, set `penalty=None`.\n",
      "  warnings.warn(\n",
      "C:\\Users\\nekrald\\anaconda3\\envs\\comm-461\\Lib\\site-packages\\sklearn\\linear_model\\_logistic.py:1192: UserWarning: Setting penalty=None will ignore the C and l1_ratio parameters\n",
      "  warnings.warn(\n",
      "C:\\Users\\nekrald\\anaconda3\\envs\\comm-461\\Lib\\site-packages\\sklearn\\linear_model\\_logistic.py:1182: FutureWarning: `penalty='none'`has been deprecated in 1.2 and will be removed in 1.4. To keep the past behaviour, set `penalty=None`.\n",
      "  warnings.warn(\n",
      "C:\\Users\\nekrald\\anaconda3\\envs\\comm-461\\Lib\\site-packages\\sklearn\\linear_model\\_logistic.py:1192: UserWarning: Setting penalty=None will ignore the C and l1_ratio parameters\n",
      "  warnings.warn(\n",
      "C:\\Users\\nekrald\\anaconda3\\envs\\comm-461\\Lib\\site-packages\\sklearn\\linear_model\\_logistic.py:1182: FutureWarning: `penalty='none'`has been deprecated in 1.2 and will be removed in 1.4. To keep the past behaviour, set `penalty=None`.\n",
      "  warnings.warn(\n",
      "C:\\Users\\nekrald\\anaconda3\\envs\\comm-461\\Lib\\site-packages\\sklearn\\linear_model\\_logistic.py:1192: UserWarning: Setting penalty=None will ignore the C and l1_ratio parameters\n",
      "  warnings.warn(\n",
      "C:\\Users\\nekrald\\anaconda3\\envs\\comm-461\\Lib\\site-packages\\sklearn\\linear_model\\_logistic.py:1182: FutureWarning: `penalty='none'`has been deprecated in 1.2 and will be removed in 1.4. To keep the past behaviour, set `penalty=None`.\n",
      "  warnings.warn(\n",
      "C:\\Users\\nekrald\\anaconda3\\envs\\comm-461\\Lib\\site-packages\\sklearn\\linear_model\\_logistic.py:1182: FutureWarning: `penalty='none'`has been deprecated in 1.2 and will be removed in 1.4. To keep the past behaviour, set `penalty=None`.\n",
      "  warnings.warn(\n",
      "C:\\Users\\nekrald\\anaconda3\\envs\\comm-461\\Lib\\site-packages\\sklearn\\linear_model\\_logistic.py:1182: FutureWarning: `penalty='none'`has been deprecated in 1.2 and will be removed in 1.4. To keep the past behaviour, set `penalty=None`.\n",
      "  warnings.warn(\n",
      "C:\\Users\\nekrald\\anaconda3\\envs\\comm-461\\Lib\\site-packages\\sklearn\\linear_model\\_logistic.py:1182: FutureWarning: `penalty='none'`has been deprecated in 1.2 and will be removed in 1.4. To keep the past behaviour, set `penalty=None`.\n",
      "  warnings.warn(\n",
      "C:\\Users\\nekrald\\anaconda3\\envs\\comm-461\\Lib\\site-packages\\sklearn\\linear_model\\_logistic.py:1192: UserWarning: Setting penalty=None will ignore the C and l1_ratio parameters\n",
      "  warnings.warn(\n",
      "C:\\Users\\nekrald\\anaconda3\\envs\\comm-461\\Lib\\site-packages\\sklearn\\linear_model\\_logistic.py:1182: FutureWarning: `penalty='none'`has been deprecated in 1.2 and will be removed in 1.4. To keep the past behaviour, set `penalty=None`.\n",
      "  warnings.warn(\n",
      "C:\\Users\\nekrald\\anaconda3\\envs\\comm-461\\Lib\\site-packages\\sklearn\\linear_model\\_logistic.py:1192: UserWarning: Setting penalty=None will ignore the C and l1_ratio parameters\n",
      "  warnings.warn(\n",
      "C:\\Users\\nekrald\\anaconda3\\envs\\comm-461\\Lib\\site-packages\\sklearn\\linear_model\\_logistic.py:1182: FutureWarning: `penalty='none'`has been deprecated in 1.2 and will be removed in 1.4. To keep the past behaviour, set `penalty=None`.\n",
      "  warnings.warn(\n",
      "C:\\Users\\nekrald\\anaconda3\\envs\\comm-461\\Lib\\site-packages\\sklearn\\linear_model\\_logistic.py:1192: UserWarning: Setting penalty=None will ignore the C and l1_ratio parameters\n",
      "  warnings.warn(\n",
      "C:\\Users\\nekrald\\anaconda3\\envs\\comm-461\\Lib\\site-packages\\sklearn\\linear_model\\_logistic.py:1182: FutureWarning: `penalty='none'`has been deprecated in 1.2 and will be removed in 1.4. To keep the past behaviour, set `penalty=None`.\n",
      "  warnings.warn(\n",
      "C:\\Users\\nekrald\\anaconda3\\envs\\comm-461\\Lib\\site-packages\\sklearn\\linear_model\\_logistic.py:1192: UserWarning: Setting penalty=None will ignore the C and l1_ratio parameters\n",
      "  warnings.warn(\n",
      "C:\\Users\\nekrald\\anaconda3\\envs\\comm-461\\Lib\\site-packages\\sklearn\\linear_model\\_logistic.py:1182: FutureWarning: `penalty='none'`has been deprecated in 1.2 and will be removed in 1.4. To keep the past behaviour, set `penalty=None`.\n",
      "  warnings.warn(\n",
      "C:\\Users\\nekrald\\anaconda3\\envs\\comm-461\\Lib\\site-packages\\sklearn\\linear_model\\_logistic.py:1192: UserWarning: Setting penalty=None will ignore the C and l1_ratio parameters\n",
      "  warnings.warn(\n",
      "C:\\Users\\nekrald\\anaconda3\\envs\\comm-461\\Lib\\site-packages\\sklearn\\linear_model\\_logistic.py:1182: FutureWarning: `penalty='none'`has been deprecated in 1.2 and will be removed in 1.4. To keep the past behaviour, set `penalty=None`.\n",
      "  warnings.warn(\n",
      "C:\\Users\\nekrald\\anaconda3\\envs\\comm-461\\Lib\\site-packages\\sklearn\\linear_model\\_logistic.py:1192: UserWarning: Setting penalty=None will ignore the C and l1_ratio parameters\n",
      "  warnings.warn(\n",
      "C:\\Users\\nekrald\\anaconda3\\envs\\comm-461\\Lib\\site-packages\\sklearn\\linear_model\\_logistic.py:1182: FutureWarning: `penalty='none'`has been deprecated in 1.2 and will be removed in 1.4. To keep the past behaviour, set `penalty=None`.\n",
      "  warnings.warn(\n",
      "C:\\Users\\nekrald\\anaconda3\\envs\\comm-461\\Lib\\site-packages\\sklearn\\linear_model\\_logistic.py:1192: UserWarning: Setting penalty=None will ignore the C and l1_ratio parameters\n",
      "  warnings.warn(\n"
     ]
    }
   ],
   "source": [
    "from sklearn.linear_model import LogisticRegression\n",
    "from sklearn.model_selection import GridSearchCV\n",
    "\n",
    "lr: EstimatorType = LogisticRegression(n_jobs=-1)\n",
    "\n",
    "lr_params: Dict[str, List[Any]] = {\n",
    "    'penalty' : [ 'l2', 'none'],\n",
    "    'C': [0.01, 0.1, 1.0, 10.0, 100.0],\n",
    "    'class_weight': ['balanced'],\n",
    "}\n",
    "\n",
    "grid_lr: EstimatorType = GridSearchCV(lr, lr_params, cv=3)\n",
    "grid_lr.fit(X_train, y_train)\n",
    "lr_est: EstimatorType = grid_lr.best_estimator_\n",
    "y_pred_lr: Union[np.array, List[int]] = grid_lr.predict(X_test)"
   ]
  },
  {
   "cell_type": "markdown",
   "id": "a86d5bd3",
   "metadata": {},
   "source": [
    "Classification report."
   ]
  },
  {
   "cell_type": "code",
   "execution_count": 10,
   "id": "d5e50c4e",
   "metadata": {},
   "outputs": [
    {
     "name": "stdout",
     "output_type": "stream",
     "text": [
      "{'0.0': {'precision': 0.15857142857142856, 'recall': 0.6, 'f1-score': 0.25084745762711863, 'support': 185.0}, '1.0': {'precision': 0.9094247246022031, 'recall': 0.5578078078078078, 'f1-score': 0.6914844113541182, 'support': 1332.0}, 'accuracy': 0.5629531970995386, 'macro avg': {'precision': 0.5339980765868159, 'recall': 0.5789039039039039, 'f1-score': 0.4711659344906184, 'support': 1517.0}, 'weighted avg': {'precision': 0.8178572494764988, 'recall': 0.5629531970995386, 'f1-score': 0.6377481974849719, 'support': 1517.0}}\n"
     ]
    }
   ],
   "source": [
    "lr_metrics: Dict[str, Any] = compute_metrics(y_pred_lr, y_test)\n",
    "table_builder.commit(\"Logistic Regression\", lr_metrics)\n",
    "print(lr_metrics)"
   ]
  },
  {
   "cell_type": "code",
   "execution_count": 11,
   "id": "eaa550be",
   "metadata": {},
   "outputs": [
    {
     "name": "stderr",
     "output_type": "stream",
     "text": [
      "C:\\Users\\nekrald\\anaconda3\\envs\\comm-461\\Lib\\site-packages\\sklearn\\linear_model\\_logistic.py:1182: FutureWarning: `penalty='none'`has been deprecated in 1.2 and will be removed in 1.4. To keep the past behaviour, set `penalty=None`.\n",
      "  warnings.warn(\n",
      "C:\\Users\\nekrald\\anaconda3\\envs\\comm-461\\Lib\\site-packages\\sklearn\\linear_model\\_logistic.py:1192: UserWarning: Setting penalty=None will ignore the C and l1_ratio parameters\n",
      "  warnings.warn(\n"
     ]
    },
    {
     "data": {
      "text/html": [
       "<style>#sk-container-id-1 {color: black;}#sk-container-id-1 pre{padding: 0;}#sk-container-id-1 div.sk-toggleable {background-color: white;}#sk-container-id-1 label.sk-toggleable__label {cursor: pointer;display: block;width: 100%;margin-bottom: 0;padding: 0.3em;box-sizing: border-box;text-align: center;}#sk-container-id-1 label.sk-toggleable__label-arrow:before {content: \"▸\";float: left;margin-right: 0.25em;color: #696969;}#sk-container-id-1 label.sk-toggleable__label-arrow:hover:before {color: black;}#sk-container-id-1 div.sk-estimator:hover label.sk-toggleable__label-arrow:before {color: black;}#sk-container-id-1 div.sk-toggleable__content {max-height: 0;max-width: 0;overflow: hidden;text-align: left;background-color: #f0f8ff;}#sk-container-id-1 div.sk-toggleable__content pre {margin: 0.2em;color: black;border-radius: 0.25em;background-color: #f0f8ff;}#sk-container-id-1 input.sk-toggleable__control:checked~div.sk-toggleable__content {max-height: 200px;max-width: 100%;overflow: auto;}#sk-container-id-1 input.sk-toggleable__control:checked~label.sk-toggleable__label-arrow:before {content: \"▾\";}#sk-container-id-1 div.sk-estimator input.sk-toggleable__control:checked~label.sk-toggleable__label {background-color: #d4ebff;}#sk-container-id-1 div.sk-label input.sk-toggleable__control:checked~label.sk-toggleable__label {background-color: #d4ebff;}#sk-container-id-1 input.sk-hidden--visually {border: 0;clip: rect(1px 1px 1px 1px);clip: rect(1px, 1px, 1px, 1px);height: 1px;margin: -1px;overflow: hidden;padding: 0;position: absolute;width: 1px;}#sk-container-id-1 div.sk-estimator {font-family: monospace;background-color: #f0f8ff;border: 1px dotted black;border-radius: 0.25em;box-sizing: border-box;margin-bottom: 0.5em;}#sk-container-id-1 div.sk-estimator:hover {background-color: #d4ebff;}#sk-container-id-1 div.sk-parallel-item::after {content: \"\";width: 100%;border-bottom: 1px solid gray;flex-grow: 1;}#sk-container-id-1 div.sk-label:hover label.sk-toggleable__label {background-color: #d4ebff;}#sk-container-id-1 div.sk-serial::before {content: \"\";position: absolute;border-left: 1px solid gray;box-sizing: border-box;top: 0;bottom: 0;left: 50%;z-index: 0;}#sk-container-id-1 div.sk-serial {display: flex;flex-direction: column;align-items: center;background-color: white;padding-right: 0.2em;padding-left: 0.2em;position: relative;}#sk-container-id-1 div.sk-item {position: relative;z-index: 1;}#sk-container-id-1 div.sk-parallel {display: flex;align-items: stretch;justify-content: center;background-color: white;position: relative;}#sk-container-id-1 div.sk-item::before, #sk-container-id-1 div.sk-parallel-item::before {content: \"\";position: absolute;border-left: 1px solid gray;box-sizing: border-box;top: 0;bottom: 0;left: 50%;z-index: -1;}#sk-container-id-1 div.sk-parallel-item {display: flex;flex-direction: column;z-index: 1;position: relative;background-color: white;}#sk-container-id-1 div.sk-parallel-item:first-child::after {align-self: flex-end;width: 50%;}#sk-container-id-1 div.sk-parallel-item:last-child::after {align-self: flex-start;width: 50%;}#sk-container-id-1 div.sk-parallel-item:only-child::after {width: 0;}#sk-container-id-1 div.sk-dashed-wrapped {border: 1px dashed gray;margin: 0 0.4em 0.5em 0.4em;box-sizing: border-box;padding-bottom: 0.4em;background-color: white;}#sk-container-id-1 div.sk-label label {font-family: monospace;font-weight: bold;display: inline-block;line-height: 1.2em;}#sk-container-id-1 div.sk-label-container {text-align: center;}#sk-container-id-1 div.sk-container {/* jupyter's `normalize.less` sets `[hidden] { display: none; }` but bootstrap.min.css set `[hidden] { display: none !important; }` so we also need the `!important` here to be able to override the default hidden behavior on the sphinx rendered scikit-learn.org. See: https://github.com/scikit-learn/scikit-learn/issues/21755 */display: inline-block !important;position: relative;}#sk-container-id-1 div.sk-text-repr-fallback {display: none;}</style><div id=\"sk-container-id-1\" class=\"sk-top-container\"><div class=\"sk-text-repr-fallback\"><pre>LogisticRegression(C=0.01, class_weight=&#x27;balanced&#x27;, n_jobs=-1, penalty=&#x27;none&#x27;)</pre><b>In a Jupyter environment, please rerun this cell to show the HTML representation or trust the notebook. <br />On GitHub, the HTML representation is unable to render, please try loading this page with nbviewer.org.</b></div><div class=\"sk-container\" hidden><div class=\"sk-item\"><div class=\"sk-estimator sk-toggleable\"><input class=\"sk-toggleable__control sk-hidden--visually\" id=\"sk-estimator-id-1\" type=\"checkbox\" checked><label for=\"sk-estimator-id-1\" class=\"sk-toggleable__label sk-toggleable__label-arrow\">LogisticRegression</label><div class=\"sk-toggleable__content\"><pre>LogisticRegression(C=0.01, class_weight=&#x27;balanced&#x27;, n_jobs=-1, penalty=&#x27;none&#x27;)</pre></div></div></div></div></div>"
      ],
      "text/plain": [
       "LogisticRegression(C=0.01, class_weight='balanced', n_jobs=-1, penalty='none')"
      ]
     },
     "execution_count": 11,
     "metadata": {},
     "output_type": "execute_result"
    }
   ],
   "source": [
    "lr_est.fit(X_all, y_all)"
   ]
  },
  {
   "cell_type": "markdown",
   "id": "8bf6cfb3",
   "metadata": {},
   "source": [
    "Visualization of LR coefficients."
   ]
  },
  {
   "cell_type": "code",
   "execution_count": 13,
   "id": "dff077fb",
   "metadata": {},
   "outputs": [
    {
     "data": {
      "image/png": "[encoded data removed]",
      "text/plain": [
       "<Figure size 640x480 with 1 Axes>"
      ]
     },
     "metadata": {},
     "output_type": "display_data"
    }
   ],
   "source": [
    "import seaborn as sns\n",
    "\n",
    "visual_lr: pd.DataFrame = pd.DataFrame()\n",
    "visual_lr['coefficients'] = np.array(lr_est.coef_)[0]\n",
    "visual_lr['features'] = clean_df.columns\n",
    "\n",
    "sns.barplot(x='coefficients', y='features', data=visual_lr)\n",
    "plt.title(\"Logistic Coefficients for Client Type\")\n",
    "plt.savefig(\"images/reliability/lr_reliability.png\", dpi=300, bbox_inches='tight')"
   ]
  },
  {
   "cell_type": "markdown",
   "id": "2d5d7d8f",
   "metadata": {},
   "source": [
    "# With Random Forest"
   ]
  },
  {
   "cell_type": "code",
   "execution_count": 14,
   "id": "64e1e925",
   "metadata": {},
   "outputs": [],
   "source": [
    "from sklearn.ensemble import RandomForestClassifier\n",
    "\n",
    "rf_params: Dict[str, List[Any]] = {\n",
    "    'max_depth': [5, 10],\n",
    "    'min_samples_leaf': [ 10, 15, 20],\n",
    "    'max_samples': [0.6, None],\n",
    "    'n_estimators': [400],\n",
    "    'class_weight': ['balanced_subsample'],\n",
    "    'n_jobs': [-1]\n",
    "}\n",
    "\n",
    "rf_clf: EstimatorType = RandomForestClassifier(n_jobs=-1, class_weight='balanced_subsample')\n",
    "\n",
    "grid_rf: EstimatorType = GridSearchCV(rf_clf, rf_params)\n",
    "grid_rf.fit(X_train, y_train)\n",
    "y_pred_rf: Union[List[int], np.array] = grid_rf.predict(X_test)"
   ]
  },
  {
   "cell_type": "markdown",
   "id": "a28d0f7f",
   "metadata": {},
   "source": [
    "Classification report."
   ]
  },
  {
   "cell_type": "code",
   "execution_count": 15,
   "id": "87630f50",
   "metadata": {},
   "outputs": [
    {
     "name": "stdout",
     "output_type": "stream",
     "text": [
      "{'0.0': {'precision': 0.21428571428571427, 'recall': 0.22702702702702704, 'f1-score': 0.2204724409448819, 'support': 185.0}, '1.0': {'precision': 0.8917486752460257, 'recall': 0.8843843843843844, 'f1-score': 0.8880512627214474, 'support': 1332.0}, 'accuracy': 0.8042188529993408, 'macro avg': {'precision': 0.55301719476587, 'recall': 0.5557057057057058, 'f1-score': 0.5542618518331647, 'support': 1517.0}, 'weighted avg': {'precision': 0.809131240982573, 'recall': 0.8042188529993408, 'f1-score': 0.8066392112852809, 'support': 1517.0}}\n"
     ]
    }
   ],
   "source": [
    "rf_metrics: Dict[str, Any] = compute_metrics(y_pred_rf, y_test)\n",
    "table_builder.commit(\"Random Forest\", rf_metrics)\n",
    "print(rf_metrics)"
   ]
  },
  {
   "cell_type": "markdown",
   "id": "5c944c35",
   "metadata": {},
   "source": [
    "Visualization of feature importances."
   ]
  },
  {
   "cell_type": "code",
   "execution_count": 16,
   "id": "95292aee",
   "metadata": {},
   "outputs": [
    {
     "data": {
      "image/png": "[encoded data removed]",
      "text/plain": [
       "<Figure size 640x480 with 1 Axes>"
      ]
     },
     "metadata": {},
     "output_type": "display_data"
    }
   ],
   "source": [
    "rf_clf: EstimatorType = grid_rf.best_estimator_\n",
    "rf_clf.fit(X_all, y_all)\n",
    "importances: Union[np.array, List[float]] = rf_clf.feature_importances_\n",
    "\n",
    "visual_df: pd.DataFrame = pd.DataFrame()\n",
    "visual_df['importances'] = importances\n",
    "visual_df['features'] = clean_df.columns\n",
    "sns.barplot(x='importances', y='features', data=visual_df)\n",
    "\n",
    "plt.title(\"RF importances for Client Types\")\n",
    "plt.savefig(\"images/reliability/rf_reliability.png\", dpi=300, bbox_inches='tight')"
   ]
  },
  {
   "cell_type": "markdown",
   "id": "4ac2b065",
   "metadata": {},
   "source": [
    "# Performance Comparison\n",
    "\n",
    "Results are exported to `tables` directory."
   ]
  },
  {
   "cell_type": "code",
   "execution_count": 17,
   "id": "d57c596c",
   "metadata": {},
   "outputs": [
    {
     "data": {
      "text/html": [
       "<div>\n",
       "<style scoped>\n",
       "    .dataframe tbody tr th:only-of-type {\n",
       "        vertical-align: middle;\n",
       "    }\n",
       "\n",
       "    .dataframe tbody tr th {\n",
       "        vertical-align: top;\n",
       "    }\n",
       "\n",
       "    .dataframe thead th {\n",
       "        text-align: right;\n",
       "    }\n",
       "</style>\n",
       "<table border=\"1\" class=\"dataframe\">\n",
       "  <thead>\n",
       "    <tr style=\"text-align: right;\">\n",
       "      <th></th>\n",
       "      <th>algorithm</th>\n",
       "      <th>accuracy</th>\n",
       "      <th>precision</th>\n",
       "      <th>recall</th>\n",
       "      <th>f1-score</th>\n",
       "      <th>rel. prec.</th>\n",
       "      <th>rel. rec.</th>\n",
       "      <th>unrel. prec.</th>\n",
       "      <th>unrel. rec.</th>\n",
       "    </tr>\n",
       "  </thead>\n",
       "  <tbody>\n",
       "    <tr>\n",
       "      <th>0</th>\n",
       "      <td>Logistic Regression</td>\n",
       "      <td>0.562953</td>\n",
       "      <td>0.817857</td>\n",
       "      <td>0.562953</td>\n",
       "      <td>0.637748</td>\n",
       "      <td>0.909425</td>\n",
       "      <td>0.557808</td>\n",
       "      <td>0.158571</td>\n",
       "      <td>0.158571</td>\n",
       "    </tr>\n",
       "    <tr>\n",
       "      <th>1</th>\n",
       "      <td>Random Forest</td>\n",
       "      <td>0.804219</td>\n",
       "      <td>0.809131</td>\n",
       "      <td>0.804219</td>\n",
       "      <td>0.806639</td>\n",
       "      <td>0.891749</td>\n",
       "      <td>0.884384</td>\n",
       "      <td>0.214286</td>\n",
       "      <td>0.214286</td>\n",
       "    </tr>\n",
       "  </tbody>\n",
       "</table>\n",
       "</div>"
      ],
      "text/plain": [
       "             algorithm  accuracy  precision    recall  f1-score  rel. prec.  \\\n",
       "0  Logistic Regression  0.562953   0.817857  0.562953  0.637748    0.909425   \n",
       "1        Random Forest  0.804219   0.809131  0.804219  0.806639    0.891749   \n",
       "\n",
       "   rel. rec.  unrel. prec.  unrel. rec.  \n",
       "0   0.557808      0.158571     0.158571  \n",
       "1   0.884384      0.214286     0.214286  "
      ]
     },
     "execution_count": 17,
     "metadata": {},
     "output_type": "execute_result"
    }
   ],
   "source": [
    "table: pd.DataFrame = table_builder.make_table()\n",
    "table.to_excel(\"tables/reliability.xlsx\")\n",
    "table.to_latex(\"tables/reliability.tex\", float_format=\"%.2f\")\n",
    "table"
   ]
  },
  {
   "cell_type": "code",
   "execution_count": null,
   "id": "23791d90",
   "metadata": {},
   "outputs": [],
   "source": []
  }
 ],
 "metadata": {
  "kernelspec": {
   "display_name": "Python 3 (ipykernel)",
   "language": "python",
   "name": "python3"
  },
  "language_info": {
   "codemirror_mode": {
    "name": "ipython",
    "version": 3
   },
   "file_extension": ".py",
   "mimetype": "text/x-python",
   "name": "python",
   "nbconvert_exporter": "python",
   "pygments_lexer": "ipython3",
   "version": "3.11.5"
  }
 },
 "nbformat": 4,
 "nbformat_minor": 5
}
