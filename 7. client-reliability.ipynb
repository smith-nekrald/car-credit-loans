{
 "cells": [
  {
   "cell_type": "code",
   "execution_count": 1,
   "metadata": {},
   "outputs": [],
   "source": [
    "import os\n",
    "import copy\n",
    "from collections import OrderedDict\n",
    "from collections import defaultdict\n",
    "import pickle\n",
    "\n",
    "import joblib\n",
    "import pandas as pd\n",
    "import numpy as np\n",
    "import seaborn as sns\n",
    "import sklearn as sk\n",
    "import matplotlib.pyplot as plt\n",
    "\n",
    "%matplotlib inline\n",
    "np.random.seed(42)"
   ]
  },
  {
   "cell_type": "code",
   "execution_count": 2,
   "metadata": {},
   "outputs": [],
   "source": [
    "class DataTable: pass\n",
    "all_table = joblib.load(\"prepared_data/all_data_dropped_na.jbl\")\n",
    "\n",
    "if not os.path.exists(\"images/reliability\"):\n",
    "    os.makedirs(\"images/reliability\")"
   ]
  },
  {
   "cell_type": "code",
   "execution_count": 3,
   "metadata": {},
   "outputs": [
    {
     "name": "stdout",
     "output_type": "stream",
     "text": [
      "len underpaid =  444\n",
      "len overpaid =  3348\n"
     ]
    }
   ],
   "source": [
    "matrix = all_table.matrix\n",
    "\n",
    "overpaid_contracts = []\n",
    "underpaid_contracts = []\n",
    "\n",
    "for key, df in matrix.groupby('CONTRACT_ID'):\n",
    "    df_copy = copy.deepcopy(df)[['CONTRACT_ID', 'CUMSUM_REPAYMENT_ACTUAL', 'CUMSUM_REPAYMENT_SCHEDULED', 'REPAYMENT_ACTUAL']]\n",
    "    df_copy['CUMSUM_REPAYMENT_ACTUAL'] += df_copy['REPAYMENT_ACTUAL']\n",
    "    df_copy = df_copy.drop('REPAYMENT_ACTUAL', axis=1)\n",
    "    underpay = False\n",
    "    for index, row in df_copy.iterrows():\n",
    "        if not np.isnan(row['CUMSUM_REPAYMENT_ACTUAL']) and row['CUMSUM_REPAYMENT_ACTUAL'] < row['CUMSUM_REPAYMENT_SCHEDULED']:\n",
    "            underpay = True\n",
    "    if underpay:\n",
    "        underpaid_contracts.append(key)\n",
    "    else:\n",
    "        overpaid_contracts.append(key)\n",
    "\n",
    "print(\"len underpaid = \", len(underpaid_contracts))\n",
    "print(\"len overpaid = \", len(overpaid_contracts))"
   ]
  },
  {
   "cell_type": "code",
   "execution_count": 4,
   "metadata": {},
   "outputs": [
    {
     "name": "stderr",
     "output_type": "stream",
     "text": [
      "<ipython-input-4-14141a9770c0>:3: SettingWithCopyWarning: \n",
      "A value is trying to be set on a copy of a slice from a DataFrame\n",
      "\n",
      "See the caveats in the documentation: https://pandas.pydata.org/pandas-docs/stable/user_guide/indexing.html#returning-a-view-versus-a-copy\n",
      "  data_static['UNDERPAID'][data_static['CONTRACT_ID'].isin(underpaid_contracts)] = 1\n"
     ]
    }
   ],
   "source": [
    "data_static = pd.read_csv('raw_data/Static.csv', sep=';').drop('CLIENT_ID', axis=1)\n",
    "data_static['UNDERPAID'] = 0\n",
    "data_static['UNDERPAID'][data_static['CONTRACT_ID'].isin(underpaid_contracts)] = 1\n",
    "data_static['GENDER'] = 1 * (data_static['GENDER'] == 'M')"
   ]
  },
  {
   "cell_type": "markdown",
   "metadata": {},
   "source": [
    "# Metrics"
   ]
  },
  {
   "cell_type": "code",
   "execution_count": 5,
   "metadata": {},
   "outputs": [],
   "source": [
    "from sklearn.metrics import balanced_accuracy_score\n",
    "from sklearn.metrics import accuracy_score\n",
    "\n",
    "from sklearn.metrics import classification_report\n",
    "\n",
    "def compute_metrics(y_pred, y_true):\n",
    "    scores = classification_report(y_true, y_pred, output_dict=True)\n",
    "    return scores\n",
    "    "
   ]
  },
  {
   "cell_type": "code",
   "execution_count": 6,
   "metadata": {},
   "outputs": [],
   "source": [
    "class TableBuilder:\n",
    "    def __init__(self):\n",
    "        self.column2list = defaultdict(list)\n",
    "        \n",
    "    def commit(self, algo, report):\n",
    "        self.column2list['algorithm'].append(algo)\n",
    "        self.column2list['accuracy'].append(report['accuracy'])\n",
    "        self.column2list['precision'].append(report['weighted avg']['precision'])\n",
    "        self.column2list['recall'].append(report['weighted avg']['recall'])\n",
    "        self.column2list['f1-score'].append(report['weighted avg']['f1-score'])\n",
    "        self.column2list['rel. prec.'].append(report['1.0']['precision'])\n",
    "        self.column2list['rel. rec.'].append(report['1.0']['recall'])\n",
    "        self.column2list['unrel. prec.'].append(report['0.0']['precision'])\n",
    "        self.column2list['unrel. rec.'].append(report['0.0']['precision'])\n",
    "        \n",
    "    def make_table(self):\n",
    "        return pd.DataFrame.from_dict(self.column2list)\n",
    "    \n",
    "table_builder = TableBuilder()"
   ]
  },
  {
   "cell_type": "markdown",
   "metadata": {},
   "source": [
    "# With Logistic Regression"
   ]
  },
  {
   "cell_type": "code",
   "execution_count": 7,
   "metadata": {},
   "outputs": [],
   "source": [
    "from sklearn.model_selection import train_test_split\n",
    "\n",
    "y_all = 1. - np.array(data_static['UNDERPAID'])\n",
    "clean_df = data_static.drop(['UNDERPAID', 'CONTRACT_ID'], axis=1)\n",
    "X_all = np.array(clean_df)\n",
    "\n",
    "X_train, X_test, y_train, y_test = train_test_split(X_all, y_all, test_size=0.4, random_state=42)"
   ]
  },
  {
   "cell_type": "code",
   "execution_count": 8,
   "metadata": {},
   "outputs": [
    {
     "name": "stderr",
     "output_type": "stream",
     "text": [
      "C:\\Users\\nekrald\\anaconda3\\lib\\site-packages\\sklearn\\linear_model\\_logistic.py:1320: UserWarning: Setting penalty='none' will ignore the C and l1_ratio parameters\n",
      "  warnings.warn(\n",
      "C:\\Users\\nekrald\\anaconda3\\lib\\site-packages\\sklearn\\linear_model\\_logistic.py:1320: UserWarning: Setting penalty='none' will ignore the C and l1_ratio parameters\n",
      "  warnings.warn(\n",
      "C:\\Users\\nekrald\\anaconda3\\lib\\site-packages\\sklearn\\linear_model\\_logistic.py:1320: UserWarning: Setting penalty='none' will ignore the C and l1_ratio parameters\n",
      "  warnings.warn(\n",
      "C:\\Users\\nekrald\\anaconda3\\lib\\site-packages\\sklearn\\linear_model\\_logistic.py:1320: UserWarning: Setting penalty='none' will ignore the C and l1_ratio parameters\n",
      "  warnings.warn(\n",
      "C:\\Users\\nekrald\\anaconda3\\lib\\site-packages\\sklearn\\linear_model\\_logistic.py:1320: UserWarning: Setting penalty='none' will ignore the C and l1_ratio parameters\n",
      "  warnings.warn(\n",
      "C:\\Users\\nekrald\\anaconda3\\lib\\site-packages\\sklearn\\linear_model\\_logistic.py:1320: UserWarning: Setting penalty='none' will ignore the C and l1_ratio parameters\n",
      "  warnings.warn(\n",
      "C:\\Users\\nekrald\\anaconda3\\lib\\site-packages\\sklearn\\linear_model\\_logistic.py:1320: UserWarning: Setting penalty='none' will ignore the C and l1_ratio parameters\n",
      "  warnings.warn(\n",
      "C:\\Users\\nekrald\\anaconda3\\lib\\site-packages\\sklearn\\linear_model\\_logistic.py:1320: UserWarning: Setting penalty='none' will ignore the C and l1_ratio parameters\n",
      "  warnings.warn(\n",
      "C:\\Users\\nekrald\\anaconda3\\lib\\site-packages\\sklearn\\linear_model\\_logistic.py:1320: UserWarning: Setting penalty='none' will ignore the C and l1_ratio parameters\n",
      "  warnings.warn(\n",
      "C:\\Users\\nekrald\\anaconda3\\lib\\site-packages\\sklearn\\linear_model\\_logistic.py:1320: UserWarning: Setting penalty='none' will ignore the C and l1_ratio parameters\n",
      "  warnings.warn(\n",
      "C:\\Users\\nekrald\\anaconda3\\lib\\site-packages\\sklearn\\linear_model\\_logistic.py:1320: UserWarning: Setting penalty='none' will ignore the C and l1_ratio parameters\n",
      "  warnings.warn(\n",
      "C:\\Users\\nekrald\\anaconda3\\lib\\site-packages\\sklearn\\linear_model\\_logistic.py:1320: UserWarning: Setting penalty='none' will ignore the C and l1_ratio parameters\n",
      "  warnings.warn(\n",
      "C:\\Users\\nekrald\\anaconda3\\lib\\site-packages\\sklearn\\linear_model\\_logistic.py:1320: UserWarning: Setting penalty='none' will ignore the C and l1_ratio parameters\n",
      "  warnings.warn(\n"
     ]
    }
   ],
   "source": [
    "from sklearn.linear_model import LogisticRegression\n",
    "\n",
    "from sklearn.model_selection import GridSearchCV\n",
    "\n",
    "lr = LogisticRegression(n_jobs=-1)\n",
    "\n",
    "lr_params = {\n",
    "    'penalty' : [ 'l2', 'none'],\n",
    "    'C': [0.01, 0.1, 1.0, 10.0, 100.0],\n",
    "    'class_weight': ['balanced'],\n",
    "}\n",
    "\n",
    "grid_lr = GridSearchCV(lr, lr_params, cv=3)\n",
    "grid_lr.fit(X_train, y_train)\n",
    "lr_est = grid_lr.best_estimator_\n",
    "y_pred_lr = grid_lr.predict(X_test)"
   ]
  },
  {
   "cell_type": "code",
   "execution_count": 9,
   "metadata": {},
   "outputs": [
    {
     "name": "stdout",
     "output_type": "stream",
     "text": [
      "{'0.0': {'precision': 0.1598173515981735, 'recall': 0.5675675675675675, 'f1-score': 0.24940617577197147, 'support': 185}, '1.0': {'precision': 0.9069767441860465, 'recall': 0.5855855855855856, 'f1-score': 0.7116788321167882, 'support': 1332}, 'accuracy': 0.5833882663150955, 'macro avg': {'precision': 0.53339704789211, 'recall': 0.5765765765765766, 'f1-score': 0.4805425039443798, 'support': 1517}, 'weighted avg': {'precision': 0.8158597450899644, 'recall': 0.5833882663150955, 'f1-score': 0.6553041179283959, 'support': 1517}}\n"
     ]
    }
   ],
   "source": [
    "lr_metrics = compute_metrics(y_pred_lr, y_test)\n",
    "table_builder.commit(\"Logistic Regression\", lr_metrics)\n",
    "print(lr_metrics)"
   ]
  },
  {
   "cell_type": "code",
   "execution_count": 10,
   "metadata": {},
   "outputs": [
    {
     "name": "stderr",
     "output_type": "stream",
     "text": [
      "C:\\Users\\nekrald\\anaconda3\\lib\\site-packages\\sklearn\\linear_model\\_logistic.py:1320: UserWarning: Setting penalty='none' will ignore the C and l1_ratio parameters\n",
      "  warnings.warn(\n"
     ]
    },
    {
     "data": {
      "text/plain": [
       "LogisticRegression(C=0.01, class_weight='balanced', n_jobs=-1, penalty='none')"
      ]
     },
     "execution_count": 10,
     "metadata": {},
     "output_type": "execute_result"
    }
   ],
   "source": [
    "lr_est.fit(X_all, y_all)"
   ]
  },
  {
   "cell_type": "code",
   "execution_count": 11,
   "metadata": {},
   "outputs": [
    {
     "name": "stderr",
     "output_type": "stream",
     "text": [
      "C:\\Users\\nekrald\\anaconda3\\lib\\site-packages\\seaborn\\_decorators.py:36: FutureWarning: Pass the following variables as keyword args: x, y. From version 0.12, the only valid positional argument will be `data`, and passing other arguments without an explicit keyword will result in an error or misinterpretation.\n",
      "  warnings.warn(\n"
     ]
    },
    {
     "data": {
      "image/png": "[encoded data removed]",
      "text/plain": [
       "<Figure size 432x288 with 1 Axes>"
      ]
     },
     "metadata": {
      "needs_background": "light"
     },
     "output_type": "display_data"
    }
   ],
   "source": [
    "import seaborn as sns\n",
    "visual_lr = pd.DataFrame()\n",
    "visual_lr['coefficients'] = np.array(lr_est.coef_)[0]\n",
    "visual_lr['features'] = clean_df.columns\n",
    "sns.barplot('coefficients', 'features', data=visual_lr)\n",
    "plt.title(\"Logistic Coefficients for Client Type\")\n",
    "plt.savefig(\"images/reliability/lr_reliability.png\", dpi=300, bbox_inches='tight')"
   ]
  },
  {
   "cell_type": "markdown",
   "metadata": {},
   "source": [
    "# With Random Forest"
   ]
  },
  {
   "cell_type": "code",
   "execution_count": 12,
   "metadata": {},
   "outputs": [],
   "source": [
    "from sklearn.ensemble import RandomForestClassifier\n",
    "\n",
    "rf_params = {\n",
    "    'max_depth': [5, 10],\n",
    "    'min_samples_leaf': [ 10, 15, 20],\n",
    "    'max_samples': [0.6, None],\n",
    "    'n_estimators': [400],\n",
    "    'class_weight': ['balanced_subsample'],\n",
    "    'n_jobs': [-1]\n",
    "}\n",
    "\n",
    "rf_clf = RandomForestClassifier(n_jobs=-1, class_weight='balanced_subsample')\n",
    "\n",
    "grid_rf = GridSearchCV(rf_clf, rf_params)\n",
    "grid_rf.fit(X_train, y_train)\n",
    "y_pred_rf = grid_rf.predict(X_test)"
   ]
  },
  {
   "cell_type": "code",
   "execution_count": 13,
   "metadata": {},
   "outputs": [
    {
     "name": "stdout",
     "output_type": "stream",
     "text": [
      "{'0.0': {'precision': 0.21212121212121213, 'recall': 0.22702702702702704, 'f1-score': 0.21932114882506526, 'support': 185}, '1.0': {'precision': 0.8915845337376801, 'recall': 0.8828828828828829, 'f1-score': 0.8872123726895511, 'support': 1332}, 'accuracy': 0.8029004614370469, 'macro avg': {'precision': 0.5518528729294461, 'recall': 0.554954954954955, 'f1-score': 0.5532667607573082, 'support': 1517}, 'weighted avg': {'precision': 0.808723153052745, 'recall': 0.8029004614370469, 'f1-score': 0.8057622234377845, 'support': 1517}}\n"
     ]
    }
   ],
   "source": [
    "rf_metrics = compute_metrics(y_pred_rf, y_test)\n",
    "table_builder.commit(\"Random Forest\", rf_metrics)\n",
    "print(rf_metrics)"
   ]
  },
  {
   "cell_type": "code",
   "execution_count": 14,
   "metadata": {},
   "outputs": [
    {
     "name": "stderr",
     "output_type": "stream",
     "text": [
      "C:\\Users\\nekrald\\anaconda3\\lib\\site-packages\\seaborn\\_decorators.py:36: FutureWarning: Pass the following variables as keyword args: x, y. From version 0.12, the only valid positional argument will be `data`, and passing other arguments without an explicit keyword will result in an error or misinterpretation.\n",
      "  warnings.warn(\n"
     ]
    },
    {
     "data": {
      "image/png": "[encoded data removed]",
      "text/plain": [
       "<Figure size 432x288 with 1 Axes>"
      ]
     },
     "metadata": {
      "needs_background": "light"
     },
     "output_type": "display_data"
    }
   ],
   "source": [
    "rf_clf = grid_rf.best_estimator_\n",
    "rf_clf.fit(X_all, y_all)\n",
    "importances = rf_clf.feature_importances_\n",
    "\n",
    "visual_df = pd.DataFrame()\n",
    "visual_df['importances'] = importances\n",
    "visual_df['features'] = clean_df.columns\n",
    "sns.barplot('importances', 'features', data=visual_df)\n",
    "\n",
    "plt.title(\"RF importances for Client Types\")\n",
    "plt.savefig(\"images/reliability/rf_reliability.png\", dpi=300, bbox_inches='tight')"
   ]
  },
  {
   "cell_type": "markdown",
   "metadata": {},
   "source": [
    "# Performance Comparison"
   ]
  },
  {
   "cell_type": "code",
   "execution_count": 15,
   "metadata": {},
   "outputs": [
    {
     "data": {
      "text/html": [
       "<div>\n",
       "<style scoped>\n",
       "    .dataframe tbody tr th:only-of-type {\n",
       "        vertical-align: middle;\n",
       "    }\n",
       "\n",
       "    .dataframe tbody tr th {\n",
       "        vertical-align: top;\n",
       "    }\n",
       "\n",
       "    .dataframe thead th {\n",
       "        text-align: right;\n",
       "    }\n",
       "</style>\n",
       "<table border=\"1\" class=\"dataframe\">\n",
       "  <thead>\n",
       "    <tr style=\"text-align: right;\">\n",
       "      <th></th>\n",
       "      <th>algorithm</th>\n",
       "      <th>accuracy</th>\n",
       "      <th>precision</th>\n",
       "      <th>recall</th>\n",
       "      <th>f1-score</th>\n",
       "      <th>rel. prec.</th>\n",
       "      <th>rel. rec.</th>\n",
       "      <th>unrel. prec.</th>\n",
       "      <th>unrel. rec.</th>\n",
       "    </tr>\n",
       "  </thead>\n",
       "  <tbody>\n",
       "    <tr>\n",
       "      <th>0</th>\n",
       "      <td>Logistic Regression</td>\n",
       "      <td>0.583388</td>\n",
       "      <td>0.815860</td>\n",
       "      <td>0.583388</td>\n",
       "      <td>0.655304</td>\n",
       "      <td>0.906977</td>\n",
       "      <td>0.585586</td>\n",
       "      <td>0.159817</td>\n",
       "      <td>0.159817</td>\n",
       "    </tr>\n",
       "    <tr>\n",
       "      <th>1</th>\n",
       "      <td>Random Forest</td>\n",
       "      <td>0.802900</td>\n",
       "      <td>0.808723</td>\n",
       "      <td>0.802900</td>\n",
       "      <td>0.805762</td>\n",
       "      <td>0.891585</td>\n",
       "      <td>0.882883</td>\n",
       "      <td>0.212121</td>\n",
       "      <td>0.212121</td>\n",
       "    </tr>\n",
       "  </tbody>\n",
       "</table>\n",
       "</div>"
      ],
      "text/plain": [
       "             algorithm  accuracy  precision    recall  f1-score  rel. prec.  \\\n",
       "0  Logistic Regression  0.583388   0.815860  0.583388  0.655304    0.906977   \n",
       "1        Random Forest  0.802900   0.808723  0.802900  0.805762    0.891585   \n",
       "\n",
       "   rel. rec.  unrel. prec.  unrel. rec.  \n",
       "0   0.585586      0.159817     0.159817  \n",
       "1   0.882883      0.212121     0.212121  "
      ]
     },
     "execution_count": 15,
     "metadata": {},
     "output_type": "execute_result"
    }
   ],
   "source": [
    "table = table_builder.make_table()\n",
    "table.to_excel(\"tables/reliability.xlsx\")\n",
    "table.to_latex(\"tables/reliability.tex\", float_format=\"%.2f\")\n",
    "table"
   ]
  },
  {
   "cell_type": "code",
   "execution_count": null,
   "metadata": {},
   "outputs": [],
   "source": []
  }
 ],
 "metadata": {
  "kernelspec": {
   "display_name": "Python 3",
   "language": "python",
   "name": "python3"
  },
  "language_info": {
   "codemirror_mode": {
    "name": "ipython",
    "version": 3
   },
   "file_extension": ".py",
   "mimetype": "text/x-python",
   "name": "python",
   "nbconvert_exporter": "python",
   "pygments_lexer": "ipython3",
   "version": "3.8.5"
  }
 },
 "nbformat": 4,
 "nbformat_minor": 5
}
