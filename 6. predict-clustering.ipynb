{
 "cells": [
  {
   "cell_type": "code",
   "execution_count": 1,
   "id": "through-cambridge",
   "metadata": {},
   "outputs": [],
   "source": [
    "import os\n",
    "import copy\n",
    "from collections import OrderedDict\n",
    "from collections import defaultdict\n",
    "import pickle\n",
    "\n",
    "import joblib\n",
    "import pandas as pd\n",
    "import numpy as np\n",
    "import seaborn as sns\n",
    "import sklearn as sk\n",
    "import matplotlib.pyplot as plt\n",
    "\n",
    "%matplotlib inline\n",
    "np.random.seed(42)\n",
    "import tslearn\n",
    "import dtaidistance"
   ]
  },
  {
   "cell_type": "code",
   "execution_count": 2,
   "id": "historical-sharing",
   "metadata": {},
   "outputs": [],
   "source": [
    "class DataTable: pass\n",
    "complete_series = joblib.load('prepared_data/all_data_filled_na.jbl')\n",
    "dtw_km = joblib.load('algorithms/dtw_km.alg')\n",
    "if not os.path.exists(\"images/apply/\"):\n",
    "    os.makedirs(\"images/apply/\")"
   ]
  },
  {
   "cell_type": "code",
   "execution_count": 3,
   "id": "adequate-organic",
   "metadata": {},
   "outputs": [],
   "source": [
    "def prepare_tslearn_dataset(all_table):\n",
    "    all_table.matrix = copy.deepcopy(all_table.matrix).dropna(axis=0, how='any')\n",
    "    info = np.unique(all_table.matrix.CONTRACT_ID, return_counts=True)\n",
    "    contracts = info[0]\n",
    "    amounts = info[1]\n",
    "\n",
    "    relevant = list()\n",
    "    for contract_id, amount in zip(contracts, amounts):\n",
    "        if amount >= 12:\n",
    "            relevant.append(contract_id)\n",
    "    matrix = all_table.matrix\n",
    "    long_enough = matrix[matrix['CONTRACT_ID'].isin(relevant)]\n",
    "    long_enough = long_enough[long_enough['PERIOD_ID'] <= 12]\n",
    "    series_to_cluster = long_enough[['CONTRACT_ID', 'PERCENT_ACTUAL']]\n",
    "    X_train = np.zeros(shape=(len(relevant), 12, 1), dtype=np.float32)\n",
    "    index = 0\n",
    "    contracts = list()\n",
    "    for contract_id, df in series_to_cluster.groupby('CONTRACT_ID'):\n",
    "        contracts.append(contract_id)\n",
    "        series = df['PERCENT_ACTUAL']\n",
    "        X_train[index, :, 0] = series\n",
    "        index += 1\n",
    "    return X_train, contracts\n",
    "\n"
   ]
  },
  {
   "cell_type": "code",
   "execution_count": 4,
   "id": "solid-offset",
   "metadata": {},
   "outputs": [
    {
     "name": "stdout",
     "output_type": "stream",
     "text": [
      "Cluster: 1 Size: 3450\n",
      "Cluster: 2 Size: 161\n",
      "Cluster: 3 Size: 36\n",
      "Cluster: 4 Size: 141\n"
     ]
    }
   ],
   "source": [
    "X_tslearn, contracts = prepare_tslearn_dataset(complete_series)\n",
    "clusters = dtw_km.predict(X_tslearn)\n",
    "info = np.unique(clusters, return_counts=True)\n",
    "for idx, count in zip(info[0], info[1]):\n",
    "    print(\"Cluster:\", idx + 1, \"Size:\", count)"
   ]
  },
  {
   "cell_type": "code",
   "execution_count": 5,
   "id": "worldwide-landscape",
   "metadata": {},
   "outputs": [
    {
     "name": "stderr",
     "output_type": "stream",
     "text": [
      "/home/nekrald/.local/lib/python3.8/site-packages/seaborn/_decorators.py:36: FutureWarning: Pass the following variables as keyword args: x, y. From version 0.12, the only valid positional argument will be `data`, and passing other arguments without an explicit keyword will result in an error or misinterpretation.\n",
      "  warnings.warn(\n"
     ]
    },
    {
     "data": {
      "image/png": "[encoded data removed]",
      "text/plain": [
       "<Figure size 432x288 with 1 Axes>"
      ]
     },
     "metadata": {
      "needs_background": "light"
     },
     "output_type": "display_data"
    }
   ],
   "source": [
    "result_df = pd.DataFrame()\n",
    "result_df['Cluster'] = info[0] + 1\n",
    "result_df['Size'] = info[1]\n",
    "sns.barplot('Cluster', 'Size', data=result_df)\n",
    "plt.title(\"Cluster Sizes after Completion\")\n",
    "plt.savefig(\"images/apply/cluster_sizes_dtw.png\")"
   ]
  },
  {
   "cell_type": "code",
   "execution_count": null,
   "id": "empty-hampton",
   "metadata": {},
   "outputs": [],
   "source": []
  }
 ],
 "metadata": {
  "kernelspec": {
   "display_name": "Python 3",
   "language": "python",
   "name": "python3"
  },
  "language_info": {
   "codemirror_mode": {
    "name": "ipython",
    "version": 3
   },
   "file_extension": ".py",
   "mimetype": "text/x-python",
   "name": "python",
   "nbconvert_exporter": "python",
   "pygments_lexer": "ipython3",
   "version": "3.8.5"
  }
 },
 "nbformat": 4,
 "nbformat_minor": 5
}
