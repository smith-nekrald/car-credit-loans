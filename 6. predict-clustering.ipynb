{
 "cells": [
  {
   "cell_type": "markdown",
   "metadata": {},
   "source": [
    "# Notebook 6. Clusterization of All Time Series."
   ]
  },
  {
   "cell_type": "code",
   "execution_count": 1,
   "metadata": {},
   "outputs": [],
   "source": [
    "from typing import Union\n",
    "from typing import Any\n",
    "from typing import List\n",
    "from typing import Set\n",
    "from typing import Dict\n",
    "from typing import Tuple\n",
    "from typing import Optional\n",
    "from typing import Callable\n",
    "\n",
    "import os\n",
    "import copy\n",
    "from collections import OrderedDict\n",
    "from collections import defaultdict\n",
    "import pickle\n",
    "\n",
    "import joblib\n",
    "import pandas as pd\n",
    "import numpy as np\n",
    "import seaborn as sns\n",
    "import sklearn as sk\n",
    "import matplotlib.pyplot as plt\n",
    "\n",
    "%matplotlib inline\n",
    "RANDOM_SEED: int = 42\n",
    "np.random.seed(RANDOM_SEED)\n",
    "\n",
    "import tslearn\n",
    "import dtaidistance"
   ]
  },
  {
   "cell_type": "markdown",
   "metadata": {},
   "source": [
    "Reading the data and loading the algorithm."
   ]
  },
  {
   "cell_type": "code",
   "execution_count": 2,
   "metadata": {},
   "outputs": [
    {
     "name": "stderr",
     "output_type": "stream",
     "text": [
      "C:\\Users\\nekrald\\anaconda3\\lib\\site-packages\\tslearn\\clustering\\kmeans.py:16: UserWarning: Scikit-learn <0.24 will be deprecated in a future release of tslearn\n",
      "  warnings.warn(\n"
     ]
    }
   ],
   "source": [
    "class DataTable: pass\n",
    "complete_series: DataTable = joblib.load('prepared_data/all_data_filled_na.jbl')\n",
    "dtw_km: Any = joblib.load('algorithms/dtw_km.alg')\n",
    "if not os.path.exists(\"images/apply/\"):\n",
    "    os.makedirs(\"images/apply/\")"
   ]
  },
  {
   "cell_type": "markdown",
   "metadata": {},
   "source": [
    "Method to convert DataTable into a format suitable for TSLearn."
   ]
  },
  {
   "cell_type": "code",
   "execution_count": 3,
   "metadata": {},
   "outputs": [],
   "source": [
    "def prepare_tslearn_dataset(all_table: DataTable\n",
    "                           ) -> Tuple[Union[np.array, List[List[List[float]]]], List[str]]:\n",
    "    \"\"\" Converts DataTable to a form which can be used by TSLearn.\n",
    "    \n",
    "    Arguments:\n",
    "        all_table: DataTable with features, targets and convenient naming. \n",
    "    \n",
    "    Returns:\n",
    "        Tuple with numpy array ready for TSLearn and corresponding list of contract ids.\n",
    "    \"\"\"\n",
    "    all_table.matrix = copy.deepcopy(all_table.matrix).dropna(axis=0, how='any')\n",
    "    info: Tuple[Union[np.array, List[str]], Union[np.array, List[int]]] = np.unique(\n",
    "        all_table.matrix.CONTRACT_ID, return_counts=True)\n",
    "    contracts: Union[np.array, List[str]] = info[0]\n",
    "    amounts: Union[np.array, List[int]] = info[1]\n",
    "\n",
    "    relevant: List[str] = list()\n",
    "    N_MONTHS_IN_YEAR: int = 12\n",
    "    \n",
    "    contract_id: str; amount: int\n",
    "    for contract_id, amount in zip(contracts, amounts):\n",
    "        if amount >= N_MONTHS_IN_YEAR:\n",
    "            relevant.append(contract_id)\n",
    "            \n",
    "    matrix: pd.DataFrame = all_table.matrix\n",
    "    long_enough: pd.DataFrame = matrix[matrix['CONTRACT_ID'].isin(relevant)]\n",
    "    long_enough = long_enough[long_enough['PERIOD_ID'] <= N_MONTHS_IN_YEAR]\n",
    "    series_to_cluster: pd.DataFrame = long_enough[['CONTRACT_ID', 'PERCENT_ACTUAL']]\n",
    "    X_train: Union[np.array, List[List[List[float]]]] = np.zeros(\n",
    "        shape=(len(relevant), N_MONTHS_IN_YEAR, 1), dtype=np.float32)\n",
    "    index: int = 0\n",
    "    contracts: List[str] = list()\n",
    "    df: pd.DataFrame\n",
    "    for contract_id, df in series_to_cluster.groupby('CONTRACT_ID'):\n",
    "        contracts.append(contract_id)\n",
    "        series: pd.Series = df['PERCENT_ACTUAL']\n",
    "        X_train[index, :, 0] = series\n",
    "        index += 1\n",
    "    return X_train, contracts"
   ]
  },
  {
   "cell_type": "markdown",
   "metadata": {},
   "source": [
    "Application: Prepare dataset and predict clusters."
   ]
  },
  {
   "cell_type": "code",
   "execution_count": 4,
   "metadata": {},
   "outputs": [
    {
     "name": "stdout",
     "output_type": "stream",
     "text": [
      "Cluster: 1 Size: 3450\n",
      "Cluster: 2 Size: 161\n",
      "Cluster: 3 Size: 36\n",
      "Cluster: 4 Size: 141\n"
     ]
    }
   ],
   "source": [
    "X_tslearn: Union[np.array, List[List[List[float]]]]\n",
    "contracts: List[str]\n",
    "X_tslearn, contracts = prepare_tslearn_dataset(complete_series)\n",
    "\n",
    "clusters: Union[List[int], np.array] = dtw_km.predict(X_tslearn)\n",
    "info: Tuple[Union[List[int], np.array], Union[List[int], np.array]] = np.unique(\n",
    "    clusters, return_counts=True)\n",
    "\n",
    "idx: int; count: int\n",
    "for idx, count in zip(info[0], info[1]):\n",
    "    print(\"Cluster:\", idx + 1, \"Size:\", count)"
   ]
  },
  {
   "cell_type": "markdown",
   "metadata": {},
   "source": [
    "Visualize cluster sizes after completion and save to `images/apply` directory."
   ]
  },
  {
   "cell_type": "code",
   "execution_count": 5,
   "metadata": {},
   "outputs": [
    {
     "name": "stderr",
     "output_type": "stream",
     "text": [
      "C:\\Users\\nekrald\\anaconda3\\lib\\site-packages\\seaborn\\_decorators.py:36: FutureWarning: Pass the following variables as keyword args: x, y. From version 0.12, the only valid positional argument will be `data`, and passing other arguments without an explicit keyword will result in an error or misinterpretation.\n",
      "  warnings.warn(\n"
     ]
    },
    {
     "data": {
      "image/png": "[encoded data removed]",
      "text/plain": [
       "<Figure size 432x288 with 1 Axes>"
      ]
     },
     "metadata": {
      "needs_background": "light"
     },
     "output_type": "display_data"
    }
   ],
   "source": [
    "result_df: pd.DataFrame = pd.DataFrame()\n",
    "result_df['Cluster'] = info[0] + 1\n",
    "result_df['Size'] = info[1]\n",
    "sns.barplot('Cluster', 'Size', data=result_df)\n",
    "plt.title(\"Cluster Sizes after Completion\")\n",
    "plt.savefig(\"images/apply/cluster_sizes_dtw.png\")"
   ]
  },
  {
   "cell_type": "code",
   "execution_count": null,
   "metadata": {},
   "outputs": [],
   "source": []
  }
 ],
 "metadata": {
  "kernelspec": {
   "display_name": "Python 3",
   "language": "python",
   "name": "python3"
  },
  "language_info": {
   "codemirror_mode": {
    "name": "ipython",
    "version": 3
   },
   "file_extension": ".py",
   "mimetype": "text/x-python",
   "name": "python",
   "nbconvert_exporter": "python",
   "pygments_lexer": "ipython3",
   "version": "3.8.5"
  }
 },
 "nbformat": 4,
 "nbformat_minor": 5
}
